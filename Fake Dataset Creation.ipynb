{
 "cells": [
  {
   "cell_type": "code",
   "execution_count": 1,
   "metadata": {},
   "outputs": [],
   "source": [
    "import numpy as np\n",
    "import pandas as pd"
   ]
  },
  {
   "cell_type": "code",
   "execution_count": 2,
   "metadata": {},
   "outputs": [
    {
     "name": "stdout",
     "output_type": "stream",
     "text": [
      "Requirement already satisfied: Faker in c:\\users\\user\\anaconda3\\lib\\site-packages (0.9.1)\n",
      "Requirement already satisfied: python-dateutil>=2.4 in c:\\users\\user\\anaconda3\\lib\\site-packages (from Faker) (2.7.5)\n",
      "Requirement already satisfied: text-unidecode==1.2 in c:\\users\\user\\anaconda3\\lib\\site-packages (from Faker) (1.2)\n",
      "Requirement already satisfied: six>=1.10 in c:\\users\\user\\anaconda3\\lib\\site-packages (from Faker) (1.14.0)\n"
     ]
    }
   ],
   "source": [
    "!pip install Faker"
   ]
  },
  {
   "cell_type": "code",
   "execution_count": 3,
   "metadata": {},
   "outputs": [],
   "source": [
    "from faker import Faker"
   ]
  },
  {
   "cell_type": "code",
   "execution_count": 4,
   "metadata": {},
   "outputs": [],
   "source": [
    "## Start creating a Fake Dataset\n",
    "\n",
    "fake_data = Faker()"
   ]
  },
  {
   "cell_type": "code",
   "execution_count": 5,
   "metadata": {},
   "outputs": [],
   "source": [
    "# Let's create a list of 200 fake names first\n",
    "def create_names(n):\n",
    "    name = []\n",
    "    for _ in range(0, n):\n",
    "        name.append(fake_data.name())\n",
    "    return name"
   ]
  },
  {
   "cell_type": "code",
   "execution_count": 8,
   "metadata": {},
   "outputs": [
    {
     "data": {
      "text/plain": [
       "['Heidi Edwards',\n",
       " 'Gabriella Drake',\n",
       " 'Michele Bryant',\n",
       " 'Emily Wilson',\n",
       " 'Amber Russell']"
      ]
     },
     "execution_count": 8,
     "metadata": {},
     "output_type": "execute_result"
    }
   ],
   "source": [
    "name = create_names(50) ## To create 50 fake names.\n",
    "name[:5]"
   ]
  },
  {
   "cell_type": "code",
   "execution_count": 9,
   "metadata": {},
   "outputs": [],
   "source": [
    "## Successfully created Fake Names"
   ]
  },
  {
   "cell_type": "code",
   "execution_count": 10,
   "metadata": {},
   "outputs": [],
   "source": [
    "# Create a list of countries\n",
    "def create_country(n):\n",
    "    nation = []\n",
    "    for _ in range(0, n):\n",
    "        nation.append(fake_data.country())\n",
    "    return nation"
   ]
  },
  {
   "cell_type": "code",
   "execution_count": 11,
   "metadata": {},
   "outputs": [],
   "source": [
    "country = create_country(200)"
   ]
  },
  {
   "cell_type": "code",
   "execution_count": 12,
   "metadata": {},
   "outputs": [
    {
     "data": {
      "text/plain": [
       "['United Arab Emirates', 'Saint Kitts and Nevis', 'Ethiopia', 'Serbia']"
      ]
     },
     "execution_count": 12,
     "metadata": {},
     "output_type": "execute_result"
    }
   ],
   "source": [
    "country[:4]"
   ]
  },
  {
   "cell_type": "code",
   "execution_count": 13,
   "metadata": {},
   "outputs": [],
   "source": [
    "# Now suppose we need to create a list of age wherein we want to create 200 ages of people, all being random integers.\n",
    "# The limitation being the minimum age should be 21 and max should be less than 98.\n",
    "\n",
    "# Create a list of age from 21 to 98 (integers)\n",
    "age = np.random.randint(21, 99, size = 200, dtype = 'int')"
   ]
  },
  {
   "cell_type": "code",
   "execution_count": 14,
   "metadata": {},
   "outputs": [],
   "source": [
    "# Create a list fo fake dates\n",
    "def create_date(n):\n",
    "    member_since = []\n",
    "    for _ in range(0, n):\n",
    "        member_since.append(fake_data.date_this_century())\n",
    "    return member_since"
   ]
  },
  {
   "cell_type": "code",
   "execution_count": 15,
   "metadata": {},
   "outputs": [],
   "source": [
    "date = create_date(200)"
   ]
  },
  {
   "cell_type": "code",
   "execution_count": 16,
   "metadata": {},
   "outputs": [],
   "source": [
    "# Create a list of fake jobs\n",
    "def create_job(n):\n",
    "    job = []\n",
    "    for _ in range(0, n):\n",
    "        job.append(fake_data.job())\n",
    "    return job"
   ]
  },
  {
   "cell_type": "code",
   "execution_count": 17,
   "metadata": {},
   "outputs": [],
   "source": [
    "occupation = create_job(200)"
   ]
  },
  {
   "cell_type": "code",
   "execution_count": 18,
   "metadata": {},
   "outputs": [],
   "source": [
    "# Create a list of fake credit card types\n",
    "def create_credit(n):\n",
    "    card = []\n",
    "    for _ in range(0, n):\n",
    "        card.append(fake_data.credit_card_provider())\n",
    "    return card"
   ]
  },
  {
   "cell_type": "code",
   "execution_count": 19,
   "metadata": {},
   "outputs": [],
   "source": [
    "card = create_credit(200)"
   ]
  },
  {
   "cell_type": "code",
   "execution_count": 29,
   "metadata": {},
   "outputs": [],
   "source": [
    "# Create a list of values 0 and 1, where 1 = married\n",
    "married = np.random.randint(0,2, size = 200)"
   ]
  },
  {
   "cell_type": "code",
   "execution_count": 30,
   "metadata": {},
   "outputs": [],
   "source": [
    "# Create a list of randomly picked races from the list of 4 races\n",
    "def create_race(n):\n",
    "    race = []\n",
    "    for _ in range(0, n):\n",
    "        race.append(fake_data.random_element(elements = (\"White\", \"Hispanic\", \"Black\", \"Asian\")))\n",
    "    return race"
   ]
  },
  {
   "cell_type": "code",
   "execution_count": 31,
   "metadata": {},
   "outputs": [],
   "source": [
    "races = create_race(200)"
   ]
  },
  {
   "cell_type": "code",
   "execution_count": 32,
   "metadata": {},
   "outputs": [],
   "source": [
    "# Now create 3 list of integers just to have some numerical data\n",
    "salary = np.random.randint(10000, 120000, size = 200, dtype = 'int')\n",
    "savings = np.random.randint(0, 50000, size = 200, dtype = 'int')\n",
    "rent = np.random.randint(500, 3001, size = 200, dtype = 'int')"
   ]
  },
  {
   "cell_type": "code",
   "execution_count": 39,
   "metadata": {},
   "outputs": [],
   "source": [
    "# Now, connect all columns into one data set\n",
    "data1 = pd.DataFrame(list(zip(name, country, age, date, occupation, card, married,\n",
    "                            races, salary, savings, rent)),\n",
    "                   columns = ['Name', 'Place_of_Birth', 'Age', 'Member_Since', 'Job',\n",
    "                              'Card',  'Married', 'Race', 'Salary', 'Savings',\n",
    "                              'Rent'])"
   ]
  },
  {
   "cell_type": "code",
   "execution_count": 40,
   "metadata": {},
   "outputs": [
    {
     "data": {
      "text/html": [
       "<div>\n",
       "<style scoped>\n",
       "    .dataframe tbody tr th:only-of-type {\n",
       "        vertical-align: middle;\n",
       "    }\n",
       "\n",
       "    .dataframe tbody tr th {\n",
       "        vertical-align: top;\n",
       "    }\n",
       "\n",
       "    .dataframe thead th {\n",
       "        text-align: right;\n",
       "    }\n",
       "</style>\n",
       "<table border=\"1\" class=\"dataframe\">\n",
       "  <thead>\n",
       "    <tr style=\"text-align: right;\">\n",
       "      <th></th>\n",
       "      <th>Name</th>\n",
       "      <th>Place_of_Birth</th>\n",
       "      <th>Age</th>\n",
       "      <th>Member_Since</th>\n",
       "      <th>Job</th>\n",
       "      <th>Card</th>\n",
       "      <th>Married</th>\n",
       "      <th>Race</th>\n",
       "      <th>Salary</th>\n",
       "      <th>Savings</th>\n",
       "      <th>Rent</th>\n",
       "    </tr>\n",
       "  </thead>\n",
       "  <tbody>\n",
       "    <tr>\n",
       "      <th>0</th>\n",
       "      <td>Heidi Edwards</td>\n",
       "      <td>United Arab Emirates</td>\n",
       "      <td>29</td>\n",
       "      <td>2016-06-02</td>\n",
       "      <td>Analytical chemist</td>\n",
       "      <td>VISA 13 digit</td>\n",
       "      <td>0</td>\n",
       "      <td>Black</td>\n",
       "      <td>90534</td>\n",
       "      <td>47526</td>\n",
       "      <td>2685</td>\n",
       "    </tr>\n",
       "    <tr>\n",
       "      <th>1</th>\n",
       "      <td>Gabriella Drake</td>\n",
       "      <td>Saint Kitts and Nevis</td>\n",
       "      <td>67</td>\n",
       "      <td>2009-01-08</td>\n",
       "      <td>Race relations officer</td>\n",
       "      <td>Mastercard</td>\n",
       "      <td>1</td>\n",
       "      <td>Hispanic</td>\n",
       "      <td>29929</td>\n",
       "      <td>948</td>\n",
       "      <td>2231</td>\n",
       "    </tr>\n",
       "    <tr>\n",
       "      <th>2</th>\n",
       "      <td>Michele Bryant</td>\n",
       "      <td>Ethiopia</td>\n",
       "      <td>30</td>\n",
       "      <td>2011-09-30</td>\n",
       "      <td>Hydrographic surveyor</td>\n",
       "      <td>VISA 13 digit</td>\n",
       "      <td>1</td>\n",
       "      <td>Hispanic</td>\n",
       "      <td>84875</td>\n",
       "      <td>11639</td>\n",
       "      <td>1011</td>\n",
       "    </tr>\n",
       "    <tr>\n",
       "      <th>3</th>\n",
       "      <td>Emily Wilson</td>\n",
       "      <td>Serbia</td>\n",
       "      <td>28</td>\n",
       "      <td>2011-10-13</td>\n",
       "      <td>Neurosurgeon</td>\n",
       "      <td>VISA 16 digit</td>\n",
       "      <td>1</td>\n",
       "      <td>Asian</td>\n",
       "      <td>109418</td>\n",
       "      <td>5762</td>\n",
       "      <td>1211</td>\n",
       "    </tr>\n",
       "    <tr>\n",
       "      <th>4</th>\n",
       "      <td>Amber Russell</td>\n",
       "      <td>Trinidad and Tobago</td>\n",
       "      <td>87</td>\n",
       "      <td>2011-01-22</td>\n",
       "      <td>Clinical research associate</td>\n",
       "      <td>JCB 16 digit</td>\n",
       "      <td>1</td>\n",
       "      <td>Asian</td>\n",
       "      <td>46080</td>\n",
       "      <td>12040</td>\n",
       "      <td>2402</td>\n",
       "    </tr>\n",
       "  </tbody>\n",
       "</table>\n",
       "</div>"
      ],
      "text/plain": [
       "              Name         Place_of_Birth  Age Member_Since  \\\n",
       "0    Heidi Edwards   United Arab Emirates   29   2016-06-02   \n",
       "1  Gabriella Drake  Saint Kitts and Nevis   67   2009-01-08   \n",
       "2   Michele Bryant               Ethiopia   30   2011-09-30   \n",
       "3     Emily Wilson                 Serbia   28   2011-10-13   \n",
       "4    Amber Russell    Trinidad and Tobago   87   2011-01-22   \n",
       "\n",
       "                           Job           Card  Married      Race  Salary  \\\n",
       "0           Analytical chemist  VISA 13 digit        0     Black   90534   \n",
       "1       Race relations officer     Mastercard        1  Hispanic   29929   \n",
       "2        Hydrographic surveyor  VISA 13 digit        1  Hispanic   84875   \n",
       "3                 Neurosurgeon  VISA 16 digit        1     Asian  109418   \n",
       "4  Clinical research associate   JCB 16 digit        1     Asian   46080   \n",
       "\n",
       "   Savings  Rent  \n",
       "0    47526  2685  \n",
       "1      948  2231  \n",
       "2    11639  1011  \n",
       "3     5762  1211  \n",
       "4    12040  2402  "
      ]
     },
     "execution_count": 40,
     "metadata": {},
     "output_type": "execute_result"
    }
   ],
   "source": [
    "# Let's see how the data looks like\n",
    "data1.head()"
   ]
  },
  {
   "cell_type": "code",
   "execution_count": 41,
   "metadata": {},
   "outputs": [
    {
     "name": "stdout",
     "output_type": "stream",
     "text": [
      "<class 'pandas.core.frame.DataFrame'>\n",
      "RangeIndex: 50 entries, 0 to 49\n",
      "Data columns (total 11 columns):\n",
      " #   Column          Non-Null Count  Dtype \n",
      "---  ------          --------------  ----- \n",
      " 0   Name            50 non-null     object\n",
      " 1   Place_of_Birth  50 non-null     object\n",
      " 2   Age             50 non-null     int64 \n",
      " 3   Member_Since    50 non-null     object\n",
      " 4   Job             50 non-null     object\n",
      " 5   Card            50 non-null     object\n",
      " 6   Married         50 non-null     int64 \n",
      " 7   Race            50 non-null     object\n",
      " 8   Salary          50 non-null     int64 \n",
      " 9   Savings         50 non-null     int64 \n",
      " 10  Rent            50 non-null     int64 \n",
      "dtypes: int64(5), object(6)\n",
      "memory usage: 4.4+ KB\n"
     ]
    }
   ],
   "source": [
    "data.info()"
   ]
  },
  {
   "cell_type": "code",
   "execution_count": 42,
   "metadata": {},
   "outputs": [],
   "source": [
    "# Perfect, let's create another set based on time\n",
    "datelist = pd.date_range('2010-01-01', periods = 200)\n",
    "sales = np.random.randint(100, 1100, size = 200, dtype = 'int')\n",
    "profit = np.random.uniform(10000, 1000000, size = 200)\n",
    "\n",
    "data2 = pd.DataFrame(list(zip(datelist, sales, profit)),\n",
    "                   columns = ['Date', 'Sales', 'Profit'])"
   ]
  },
  {
   "cell_type": "code",
   "execution_count": 43,
   "metadata": {},
   "outputs": [
    {
     "data": {
      "text/html": [
       "<div>\n",
       "<style scoped>\n",
       "    .dataframe tbody tr th:only-of-type {\n",
       "        vertical-align: middle;\n",
       "    }\n",
       "\n",
       "    .dataframe tbody tr th {\n",
       "        vertical-align: top;\n",
       "    }\n",
       "\n",
       "    .dataframe thead th {\n",
       "        text-align: right;\n",
       "    }\n",
       "</style>\n",
       "<table border=\"1\" class=\"dataframe\">\n",
       "  <thead>\n",
       "    <tr style=\"text-align: right;\">\n",
       "      <th></th>\n",
       "      <th>Date</th>\n",
       "      <th>Sales</th>\n",
       "      <th>Profit</th>\n",
       "    </tr>\n",
       "  </thead>\n",
       "  <tbody>\n",
       "    <tr>\n",
       "      <th>0</th>\n",
       "      <td>2010-01-01</td>\n",
       "      <td>734</td>\n",
       "      <td>223963.253902</td>\n",
       "    </tr>\n",
       "    <tr>\n",
       "      <th>1</th>\n",
       "      <td>2010-01-02</td>\n",
       "      <td>546</td>\n",
       "      <td>16790.909559</td>\n",
       "    </tr>\n",
       "    <tr>\n",
       "      <th>2</th>\n",
       "      <td>2010-01-03</td>\n",
       "      <td>127</td>\n",
       "      <td>334246.614199</td>\n",
       "    </tr>\n",
       "    <tr>\n",
       "      <th>3</th>\n",
       "      <td>2010-01-04</td>\n",
       "      <td>345</td>\n",
       "      <td>106082.684556</td>\n",
       "    </tr>\n",
       "    <tr>\n",
       "      <th>4</th>\n",
       "      <td>2010-01-05</td>\n",
       "      <td>722</td>\n",
       "      <td>996558.434547</td>\n",
       "    </tr>\n",
       "  </tbody>\n",
       "</table>\n",
       "</div>"
      ],
      "text/plain": [
       "        Date  Sales         Profit\n",
       "0 2010-01-01    734  223963.253902\n",
       "1 2010-01-02    546   16790.909559\n",
       "2 2010-01-03    127  334246.614199\n",
       "3 2010-01-04    345  106082.684556\n",
       "4 2010-01-05    722  996558.434547"
      ]
     },
     "execution_count": 43,
     "metadata": {},
     "output_type": "execute_result"
    }
   ],
   "source": [
    "data2.head()"
   ]
  },
  {
   "cell_type": "code",
   "execution_count": 46,
   "metadata": {},
   "outputs": [],
   "source": [
    "df = pd.concat([data1,data2],1)"
   ]
  },
  {
   "cell_type": "code",
   "execution_count": 47,
   "metadata": {},
   "outputs": [
    {
     "data": {
      "text/html": [
       "<div>\n",
       "<style scoped>\n",
       "    .dataframe tbody tr th:only-of-type {\n",
       "        vertical-align: middle;\n",
       "    }\n",
       "\n",
       "    .dataframe tbody tr th {\n",
       "        vertical-align: top;\n",
       "    }\n",
       "\n",
       "    .dataframe thead th {\n",
       "        text-align: right;\n",
       "    }\n",
       "</style>\n",
       "<table border=\"1\" class=\"dataframe\">\n",
       "  <thead>\n",
       "    <tr style=\"text-align: right;\">\n",
       "      <th></th>\n",
       "      <th>Name</th>\n",
       "      <th>Place_of_Birth</th>\n",
       "      <th>Age</th>\n",
       "      <th>Member_Since</th>\n",
       "      <th>Job</th>\n",
       "      <th>Card</th>\n",
       "      <th>Married</th>\n",
       "      <th>Race</th>\n",
       "      <th>Salary</th>\n",
       "      <th>Savings</th>\n",
       "      <th>Rent</th>\n",
       "      <th>Date</th>\n",
       "      <th>Sales</th>\n",
       "      <th>Profit</th>\n",
       "    </tr>\n",
       "  </thead>\n",
       "  <tbody>\n",
       "    <tr>\n",
       "      <th>0</th>\n",
       "      <td>Heidi Edwards</td>\n",
       "      <td>United Arab Emirates</td>\n",
       "      <td>29.0</td>\n",
       "      <td>2016-06-02</td>\n",
       "      <td>Analytical chemist</td>\n",
       "      <td>VISA 13 digit</td>\n",
       "      <td>0.0</td>\n",
       "      <td>Black</td>\n",
       "      <td>90534.0</td>\n",
       "      <td>47526.0</td>\n",
       "      <td>2685.0</td>\n",
       "      <td>2010-01-01</td>\n",
       "      <td>734</td>\n",
       "      <td>223963.253902</td>\n",
       "    </tr>\n",
       "    <tr>\n",
       "      <th>1</th>\n",
       "      <td>Gabriella Drake</td>\n",
       "      <td>Saint Kitts and Nevis</td>\n",
       "      <td>67.0</td>\n",
       "      <td>2009-01-08</td>\n",
       "      <td>Race relations officer</td>\n",
       "      <td>Mastercard</td>\n",
       "      <td>1.0</td>\n",
       "      <td>Hispanic</td>\n",
       "      <td>29929.0</td>\n",
       "      <td>948.0</td>\n",
       "      <td>2231.0</td>\n",
       "      <td>2010-01-02</td>\n",
       "      <td>546</td>\n",
       "      <td>16790.909559</td>\n",
       "    </tr>\n",
       "    <tr>\n",
       "      <th>2</th>\n",
       "      <td>Michele Bryant</td>\n",
       "      <td>Ethiopia</td>\n",
       "      <td>30.0</td>\n",
       "      <td>2011-09-30</td>\n",
       "      <td>Hydrographic surveyor</td>\n",
       "      <td>VISA 13 digit</td>\n",
       "      <td>1.0</td>\n",
       "      <td>Hispanic</td>\n",
       "      <td>84875.0</td>\n",
       "      <td>11639.0</td>\n",
       "      <td>1011.0</td>\n",
       "      <td>2010-01-03</td>\n",
       "      <td>127</td>\n",
       "      <td>334246.614199</td>\n",
       "    </tr>\n",
       "    <tr>\n",
       "      <th>3</th>\n",
       "      <td>Emily Wilson</td>\n",
       "      <td>Serbia</td>\n",
       "      <td>28.0</td>\n",
       "      <td>2011-10-13</td>\n",
       "      <td>Neurosurgeon</td>\n",
       "      <td>VISA 16 digit</td>\n",
       "      <td>1.0</td>\n",
       "      <td>Asian</td>\n",
       "      <td>109418.0</td>\n",
       "      <td>5762.0</td>\n",
       "      <td>1211.0</td>\n",
       "      <td>2010-01-04</td>\n",
       "      <td>345</td>\n",
       "      <td>106082.684556</td>\n",
       "    </tr>\n",
       "    <tr>\n",
       "      <th>4</th>\n",
       "      <td>Amber Russell</td>\n",
       "      <td>Trinidad and Tobago</td>\n",
       "      <td>87.0</td>\n",
       "      <td>2011-01-22</td>\n",
       "      <td>Clinical research associate</td>\n",
       "      <td>JCB 16 digit</td>\n",
       "      <td>1.0</td>\n",
       "      <td>Asian</td>\n",
       "      <td>46080.0</td>\n",
       "      <td>12040.0</td>\n",
       "      <td>2402.0</td>\n",
       "      <td>2010-01-05</td>\n",
       "      <td>722</td>\n",
       "      <td>996558.434547</td>\n",
       "    </tr>\n",
       "  </tbody>\n",
       "</table>\n",
       "</div>"
      ],
      "text/plain": [
       "              Name         Place_of_Birth   Age Member_Since  \\\n",
       "0    Heidi Edwards   United Arab Emirates  29.0   2016-06-02   \n",
       "1  Gabriella Drake  Saint Kitts and Nevis  67.0   2009-01-08   \n",
       "2   Michele Bryant               Ethiopia  30.0   2011-09-30   \n",
       "3     Emily Wilson                 Serbia  28.0   2011-10-13   \n",
       "4    Amber Russell    Trinidad and Tobago  87.0   2011-01-22   \n",
       "\n",
       "                           Job           Card  Married      Race    Salary  \\\n",
       "0           Analytical chemist  VISA 13 digit      0.0     Black   90534.0   \n",
       "1       Race relations officer     Mastercard      1.0  Hispanic   29929.0   \n",
       "2        Hydrographic surveyor  VISA 13 digit      1.0  Hispanic   84875.0   \n",
       "3                 Neurosurgeon  VISA 16 digit      1.0     Asian  109418.0   \n",
       "4  Clinical research associate   JCB 16 digit      1.0     Asian   46080.0   \n",
       "\n",
       "   Savings    Rent       Date  Sales         Profit  \n",
       "0  47526.0  2685.0 2010-01-01    734  223963.253902  \n",
       "1    948.0  2231.0 2010-01-02    546   16790.909559  \n",
       "2  11639.0  1011.0 2010-01-03    127  334246.614199  \n",
       "3   5762.0  1211.0 2010-01-04    345  106082.684556  \n",
       "4  12040.0  2402.0 2010-01-05    722  996558.434547  "
      ]
     },
     "execution_count": 47,
     "metadata": {},
     "output_type": "execute_result"
    }
   ],
   "source": [
    "df.head()"
   ]
  },
  {
   "cell_type": "code",
   "execution_count": 48,
   "metadata": {},
   "outputs": [],
   "source": [
    "df.to_csv('Fake_Income_Card_History_for_Regression')"
   ]
  },
  {
   "cell_type": "code",
   "execution_count": null,
   "metadata": {},
   "outputs": [],
   "source": []
  }
 ],
 "metadata": {
  "kernelspec": {
   "display_name": "Python 3",
   "language": "python",
   "name": "python3"
  },
  "language_info": {
   "codemirror_mode": {
    "name": "ipython",
    "version": 3
   },
   "file_extension": ".py",
   "mimetype": "text/x-python",
   "name": "python",
   "nbconvert_exporter": "python",
   "pygments_lexer": "ipython3",
   "version": "3.7.3"
  }
 },
 "nbformat": 4,
 "nbformat_minor": 4
}
